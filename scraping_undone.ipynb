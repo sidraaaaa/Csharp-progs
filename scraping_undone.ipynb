{
  "nbformat": 4,
  "nbformat_minor": 0,
  "metadata": {
    "colab": {
      "name": "scraping_undone.ipynb",
      "provenance": [],
      "collapsed_sections": [],
      "authorship_tag": "ABX9TyNC2pk6DRNc6OCC/KjjvEek",
      "include_colab_link": true
    },
    "kernelspec": {
      "name": "python3",
      "display_name": "Python 3"
    }
  },
  "cells": [
    {
      "cell_type": "markdown",
      "metadata": {
        "id": "view-in-github",
        "colab_type": "text"
      },
      "source": [
        "<a href=\"https://colab.research.google.com/github/sidraaaaa/Csharp-progs/blob/master/scraping_undone.ipynb\" target=\"_parent\"><img src=\"https://colab.research.google.com/assets/colab-badge.svg\" alt=\"Open In Colab\"/></a>"
      ]
    },
    {
      "cell_type": "code",
      "metadata": {
        "id": "cDYTW7LvczNG",
        "colab_type": "code",
        "colab": {
          "base_uri": "https://localhost:8080/",
          "height": 231
        },
        "outputId": "2953d8a5-3ce9-4ca2-8561-3d740ecb04e9"
      },
      "source": [
        "import requests\n",
        "from csv import writer\n",
        "from bs4 import BeautifulSoup\n",
        "\n",
        "#entering the website\n",
        "response=requests.get('https://freebitco.in/')\n",
        "\n",
        "#getting whole inspect element \n",
        "#soup=BeautifulSoup(response.text,'html.parser')\n",
        "\n",
        "req=response.content\n",
        "soup=BeautifulSoup(req,'lxml')\n",
        "\n",
        "#finding class with title\n",
        "title=soup.find(class_='name logo_margin_small').get_text().replace('\\n','')\n",
        "print(title) #printing title\n",
        "\n",
        "#try:\n",
        "#  rank=soup.find(class_='daily_jackpot_your_rank_div').get_text()\n",
        "#  print(rank)\n",
        "#except AttributeError:\n",
        "#  print('Rank=0')\n",
        "\n",
        "#rewards\n",
        "rewards=soup.find_all(\"class_='reward_category_details'\")\n",
        "for reward in rewards:\n",
        "    row=reward.find(class_='large-12 small-12 columns').get_text().replace('\\n','')\n",
        "    print(row)\n",
        "#soup.find_all('a')\n",
        "\n",
        "#links\n",
        "#link=soup.find('a')['href']\n",
        "#print(link)\n",
        "\n",
        "#\n",
        "#divs = soup.findAll(\"div', attrs={'class':'large-12 small-12 columns'}\")\n",
        "#for div in divs:\n",
        "#    ul = div.find('h4')\n",
        "#    print(ul)\n",
        "\n",
        "#infos=soup.find_all(class_='large-12 small-12 columns')\n",
        "#for info in infos:\n",
        "#  found=info.find('h4')\n",
        "#  print(found)\n",
        "\n",
        "#el=soup.find_all(id='user_free_spins_played')\n",
        "#el=soup.find(class_='large-12 small-12 columns')\n",
        "#el=soup.find_all(class_='row', id='user_free_spins_played')\n",
        "#el=soup.select('.large-12 small-12 columns')\n",
        "#el=soup.find('h4',{'class':'large-12 small-12 columns'})\n",
        "\n",
        "#for item in soup.select('.large-12 small-12 columns h4'):\n",
        "#        el = item.text\n",
        "#        print(el)\n",
        "\n",
        "#soup.find('h4').get_text()\n",
        "content = soup.find(\"div\", {\"class\":\"large-12 small-12 columns\" ,\"id\":\"user_free_spins_played\"}).find(\"h4\")\n",
        "print(content)"
      ],
      "execution_count": null,
      "outputs": [
        {
          "output_type": "stream",
          "text": [
            "freebitcoin\n"
          ],
          "name": "stdout"
        },
        {
          "output_type": "error",
          "ename": "AttributeError",
          "evalue": "ignored",
          "traceback": [
            "\u001b[0;31m---------------------------------------------------------------------------\u001b[0m",
            "\u001b[0;31mAttributeError\u001b[0m                            Traceback (most recent call last)",
            "\u001b[0;32m<ipython-input-81-4e784975435c>\u001b[0m in \u001b[0;36m<module>\u001b[0;34m()\u001b[0m\n\u001b[1;32m     55\u001b[0m \u001b[0;34m\u001b[0m\u001b[0m\n\u001b[1;32m     56\u001b[0m \u001b[0;31m#soup.find('h4').get_text()\u001b[0m\u001b[0;34m\u001b[0m\u001b[0;34m\u001b[0m\u001b[0;34m\u001b[0m\u001b[0m\n\u001b[0;32m---> 57\u001b[0;31m \u001b[0mcontent\u001b[0m \u001b[0;34m=\u001b[0m \u001b[0msoup\u001b[0m\u001b[0;34m.\u001b[0m\u001b[0mfind\u001b[0m\u001b[0;34m(\u001b[0m\u001b[0;34m\"div\"\u001b[0m\u001b[0;34m,\u001b[0m \u001b[0;34m{\u001b[0m\u001b[0;34m\"class\"\u001b[0m\u001b[0;34m:\u001b[0m\u001b[0;34m\"large-12 small-12 columns\"\u001b[0m \u001b[0;34m,\u001b[0m\u001b[0;34m\"id\"\u001b[0m\u001b[0;34m:\u001b[0m\u001b[0;34m\"user_free_spins_played\"\u001b[0m\u001b[0;34m}\u001b[0m\u001b[0;34m)\u001b[0m\u001b[0;34m.\u001b[0m\u001b[0mfind\u001b[0m\u001b[0;34m(\u001b[0m\u001b[0;34m\"h4\"\u001b[0m\u001b[0;34m)\u001b[0m\u001b[0;34m\u001b[0m\u001b[0;34m\u001b[0m\u001b[0m\n\u001b[0m\u001b[1;32m     58\u001b[0m \u001b[0mprint\u001b[0m\u001b[0;34m(\u001b[0m\u001b[0mcontent\u001b[0m\u001b[0;34m)\u001b[0m\u001b[0;34m\u001b[0m\u001b[0;34m\u001b[0m\u001b[0m\n",
            "\u001b[0;31mAttributeError\u001b[0m: 'NoneType' object has no attribute 'find'"
          ]
        }
      ]
    }
  ]
}